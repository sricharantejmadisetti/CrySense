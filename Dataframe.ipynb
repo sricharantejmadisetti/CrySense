{
 "cells": [
  {
   "cell_type": "code",
   "execution_count": 6,
   "id": "49b3e1be",
   "metadata": {},
   "outputs": [],
   "source": [
    "import pandas as pd\n",
    "from glob import glob"
   ]
  },
  {
   "cell_type": "markdown",
   "id": "54285200",
   "metadata": {},
   "source": [
    "# Dataframe\n",
    "\n",
    "each column name of the dataframe contains desciption* of the .wav files it contains <br />\n",
    "the content in the columns consist of the path to individual .wav files\n",
    "\n",
    "# Adding new enteries\n",
    "\n",
    "new enteries can be added by simply reusing the code in the 'EDITING THE DATAFRAME' Cell and changing the dataset name in the first for statement\n",
    "\n",
    "Note: the code in the afformentioned cell works on the following directory structure:-\n",
    "\n",
    "<pre>\n",
    "dataset:\n",
    "    folder1:\n",
    "        file1.wav\n",
    "        file2.wav\n",
    "        .\n",
    "        .\n",
    "    folder2:\n",
    "        file1.wav\n",
    "        file.wav\n",
    "        .\n",
    "        .\n",
    "    .\n",
    "    .\n",
    "</pre>\n",
    "\n",
    "for other structures the code in the cell should tweaked a bit\n",
    "\n",
    "\\* : the description are basically the path of the folders which contain the .wav files (with the \\ replaced by a whitespace to make it more readable)"
   ]
  },
  {
   "cell_type": "code",
   "execution_count": 7,
   "id": "7596651b",
   "metadata": {},
   "outputs": [],
   "source": [
    "df = pd.DataFrame()"
   ]
  },
  {
   "cell_type": "code",
   "execution_count": 8,
   "id": "30a22f04",
   "metadata": {},
   "outputs": [
    {
     "data": {
      "text/plain": [
       "Index(['dataset1 belly_pain', 'dataset1 burping', 'dataset1 discomfort',\n",
       "       'dataset1 hungry', 'dataset1 tired'],\n",
       "      dtype='object')"
      ]
     },
     "execution_count": 8,
     "metadata": {},
     "output_type": "execute_result"
    }
   ],
   "source": [
    "# EDITING THE DATAFRAME \n",
    "for folder in glob('dataset1/*'): #detects folder path in dataset\n",
    "    temp_df = pd.DataFrame({f'{folder}': glob(f'{folder}/*')}) #creates a temporary dataframe consisting of a single colum\n",
    "    #the temp_df consists of the new column that is to be added\n",
    "    df = pd.concat([df, temp_df], axis= 1) #adds to the dataframe the new column\n",
    "\n",
    "df.columns.str.replace(\"\\\\\", ' ')"
   ]
  },
  {
   "cell_type": "code",
   "execution_count": 9,
   "id": "f09d10c9",
   "metadata": {},
   "outputs": [
    {
     "data": {
      "text/plain": [
       "Index(['dataset1 belly_pain', 'dataset1 burping', 'dataset1 discomfort',\n",
       "       'dataset1 hungry', 'dataset1 tired', 'aug-dataset1 belly_pain',\n",
       "       'aug-dataset1 burping', 'aug-dataset1 discomfort',\n",
       "       'aug-dataset1 hungry', 'aug-dataset1 tired'],\n",
       "      dtype='object')"
      ]
     },
     "execution_count": 9,
     "metadata": {},
     "output_type": "execute_result"
    }
   ],
   "source": [
    "for folder in glob('aug-dataset1/*'):\n",
    "    temp_df = pd.DataFrame({f'{folder}': glob(f'{folder}/*')})\n",
    "    df = pd.concat([df, temp_df], axis= 1)\n",
    "\n",
    "df.columns.str.replace(\"\\\\\", ' ')"
   ]
  },
  {
   "cell_type": "code",
   "execution_count": 11,
   "id": "6697cb6a",
   "metadata": {},
   "outputs": [],
   "source": [
    "df.to_csv('Audio_Dataframe.csv')"
   ]
  },
  {
   "cell_type": "code",
   "execution_count": null,
   "id": "98b08a63-a625-440f-b308-d460339df838",
   "metadata": {},
   "outputs": [],
   "source": []
  }
 ],
 "metadata": {
  "kernelspec": {
   "display_name": "Python 3 (ipykernel)",
   "language": "python",
   "name": "python3"
  },
  "language_info": {
   "codemirror_mode": {
    "name": "ipython",
    "version": 3
   },
   "file_extension": ".py",
   "mimetype": "text/x-python",
   "name": "python",
   "nbconvert_exporter": "python",
   "pygments_lexer": "ipython3",
   "version": "3.13.7"
  }
 },
 "nbformat": 4,
 "nbformat_minor": 5
}
