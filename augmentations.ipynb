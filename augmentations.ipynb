{
 "cells": [
  {
   "cell_type": "code",
   "execution_count": 1,
   "id": "5eff3312",
   "metadata": {},
   "outputs": [
    {
     "name": "stdout",
     "output_type": "stream",
     "text": [
      "Collecting librosa\n",
      "  Obtaining dependency information for librosa from https://files.pythonhosted.org/packages/e2/a2/4f639c1168d7aada749a896afb4892a831e2041bebdcf636aebfe9e86556/librosa-0.10.1-py3-none-any.whl.metadata\n",
      "  Using cached librosa-0.10.1-py3-none-any.whl.metadata (8.3 kB)\n",
      "Collecting audioread>=2.1.9 (from librosa)\n",
      "  Obtaining dependency information for audioread>=2.1.9 from https://files.pythonhosted.org/packages/57/8d/30aa32745af16af0a9a650115fbe81bde7c610ed5c21b381fca0196f3a7f/audioread-3.0.1-py3-none-any.whl.metadata\n",
      "  Using cached audioread-3.0.1-py3-none-any.whl.metadata (8.4 kB)\n",
      "Requirement already satisfied: numpy!=1.22.0,!=1.22.1,!=1.22.2,>=1.20.3 in c:\\users\\hp\\anaconda3\\lib\\site-packages (from librosa) (1.24.3)\n",
      "Requirement already satisfied: scipy>=1.2.0 in c:\\users\\hp\\anaconda3\\lib\\site-packages (from librosa) (1.11.1)\n",
      "Requirement already satisfied: scikit-learn>=0.20.0 in c:\\users\\hp\\anaconda3\\lib\\site-packages (from librosa) (1.3.0)\n",
      "Requirement already satisfied: joblib>=0.14 in c:\\users\\hp\\anaconda3\\lib\\site-packages (from librosa) (1.2.0)\n",
      "Requirement already satisfied: decorator>=4.3.0 in c:\\users\\hp\\anaconda3\\lib\\site-packages (from librosa) (5.1.1)\n",
      "Requirement already satisfied: numba>=0.51.0 in c:\\users\\hp\\anaconda3\\lib\\site-packages (from librosa) (0.57.1)\n",
      "Collecting soundfile>=0.12.1 (from librosa)\n",
      "  Downloading soundfile-0.12.1-py2.py3-none-win_amd64.whl (1.0 MB)\n",
      "     ---------------------------------------- 0.0/1.0 MB ? eta -:--:--\n",
      "     ---------------------------------------- 0.0/1.0 MB ? eta -:--:--\n",
      "     - -------------------------------------- 0.0/1.0 MB 660.6 kB/s eta 0:00:02\n",
      "     -- ------------------------------------- 0.1/1.0 MB 550.5 kB/s eta 0:00:02\n",
      "     ---- ----------------------------------- 0.1/1.0 MB 722.1 kB/s eta 0:00:02\n",
      "     ------ --------------------------------- 0.2/1.0 MB 821.4 kB/s eta 0:00:02\n",
      "     ------ --------------------------------- 0.2/1.0 MB 821.4 kB/s eta 0:00:02\n",
      "     ----------- ---------------------------- 0.3/1.0 MB 983.9 kB/s eta 0:00:01\n",
      "     ------------ --------------------------- 0.3/1.0 MB 967.8 kB/s eta 0:00:01\n",
      "     --------------- ------------------------ 0.4/1.0 MB 1.0 MB/s eta 0:00:01\n",
      "     ----------------- ---------------------- 0.5/1.0 MB 1.0 MB/s eta 0:00:01\n",
      "     --------------------- ------------------ 0.6/1.0 MB 1.2 MB/s eta 0:00:01\n",
      "     ------------------------ --------------- 0.6/1.0 MB 1.2 MB/s eta 0:00:01\n",
      "     ------------------------------ --------- 0.8/1.0 MB 1.4 MB/s eta 0:00:01\n",
      "     ------------------------------------ --- 0.9/1.0 MB 1.5 MB/s eta 0:00:01\n",
      "     ---------------------------------------  1.0/1.0 MB 1.5 MB/s eta 0:00:01\n",
      "     ---------------------------------------- 1.0/1.0 MB 1.5 MB/s eta 0:00:00\n",
      "Collecting pooch>=1.0 (from librosa)\n",
      "  Obtaining dependency information for pooch>=1.0 from https://files.pythonhosted.org/packages/1a/a5/5174dac3957ac412e80a00f30b6507031fcab7000afc9ea0ac413bddcff2/pooch-1.8.0-py3-none-any.whl.metadata\n",
      "  Downloading pooch-1.8.0-py3-none-any.whl.metadata (9.9 kB)\n",
      "Collecting soxr>=0.3.2 (from librosa)\n",
      "  Obtaining dependency information for soxr>=0.3.2 from https://files.pythonhosted.org/packages/0d/95/8398287a3a00d006ebbe5fcada88bb2536acde2beecce892ff091e1c1a3b/soxr-0.3.7-cp311-cp311-win_amd64.whl.metadata\n",
      "  Downloading soxr-0.3.7-cp311-cp311-win_amd64.whl.metadata (5.7 kB)\n",
      "Requirement already satisfied: typing-extensions>=4.1.1 in c:\\users\\hp\\anaconda3\\lib\\site-packages (from librosa) (4.7.1)\n",
      "Requirement already satisfied: lazy-loader>=0.1 in c:\\users\\hp\\anaconda3\\lib\\site-packages (from librosa) (0.2)\n",
      "Requirement already satisfied: msgpack>=1.0 in c:\\users\\hp\\anaconda3\\lib\\site-packages (from librosa) (1.0.3)\n",
      "Requirement already satisfied: llvmlite<0.41,>=0.40.0dev0 in c:\\users\\hp\\anaconda3\\lib\\site-packages (from numba>=0.51.0->librosa) (0.40.0)\n",
      "Requirement already satisfied: platformdirs>=2.5.0 in c:\\users\\hp\\anaconda3\\lib\\site-packages (from pooch>=1.0->librosa) (3.10.0)\n",
      "Requirement already satisfied: packaging>=20.0 in c:\\users\\hp\\anaconda3\\lib\\site-packages (from pooch>=1.0->librosa) (23.1)\n",
      "Requirement already satisfied: requests>=2.19.0 in c:\\users\\hp\\anaconda3\\lib\\site-packages (from pooch>=1.0->librosa) (2.31.0)\n",
      "Requirement already satisfied: threadpoolctl>=2.0.0 in c:\\users\\hp\\anaconda3\\lib\\site-packages (from scikit-learn>=0.20.0->librosa) (2.2.0)\n",
      "Requirement already satisfied: cffi>=1.0 in c:\\users\\hp\\anaconda3\\lib\\site-packages (from soundfile>=0.12.1->librosa) (1.15.1)\n",
      "Requirement already satisfied: pycparser in c:\\users\\hp\\anaconda3\\lib\\site-packages (from cffi>=1.0->soundfile>=0.12.1->librosa) (2.21)\n",
      "Requirement already satisfied: charset-normalizer<4,>=2 in c:\\users\\hp\\anaconda3\\lib\\site-packages (from requests>=2.19.0->pooch>=1.0->librosa) (2.0.4)\n",
      "Requirement already satisfied: idna<4,>=2.5 in c:\\users\\hp\\anaconda3\\lib\\site-packages (from requests>=2.19.0->pooch>=1.0->librosa) (3.4)\n",
      "Requirement already satisfied: urllib3<3,>=1.21.1 in c:\\users\\hp\\anaconda3\\lib\\site-packages (from requests>=2.19.0->pooch>=1.0->librosa) (1.26.16)\n",
      "Requirement already satisfied: certifi>=2017.4.17 in c:\\users\\hp\\anaconda3\\lib\\site-packages (from requests>=2.19.0->pooch>=1.0->librosa) (2023.7.22)\n",
      "Downloading librosa-0.10.1-py3-none-any.whl (253 kB)\n",
      "   ---------------------------------------- 0.0/253.7 kB ? eta -:--:--\n",
      "   - -------------------------------------- 10.2/253.7 kB ? eta -:--:--\n",
      "   ----------------- ---------------------- 112.6/253.7 kB 1.1 MB/s eta 0:00:01\n",
      "   ----------------------------------- ---- 225.3/253.7 kB 1.5 MB/s eta 0:00:01\n",
      "   ---------------------------------------- 253.7/253.7 kB 1.4 MB/s eta 0:00:00\n",
      "Downloading audioread-3.0.1-py3-none-any.whl (23 kB)\n",
      "Downloading pooch-1.8.0-py3-none-any.whl (62 kB)\n",
      "   ---------------------------------------- 0.0/62.7 kB ? eta -:--:--\n",
      "   ---------------------------------------- 0.0/62.7 kB ? eta -:--:--\n",
      "   ---------------------------------------- 62.7/62.7 kB 3.3 MB/s eta 0:00:00\n",
      "Downloading soxr-0.3.7-cp311-cp311-win_amd64.whl (184 kB)\n",
      "   ---------------------------------------- 0.0/184.7 kB ? eta -:--:--\n",
      "   --------------------------------- ------ 153.6/184.7 kB 3.1 MB/s eta 0:00:01\n",
      "   ---------------------------------------- 184.7/184.7 kB 2.2 MB/s eta 0:00:00\n",
      "Installing collected packages: soxr, audioread, soundfile, pooch, librosa\n",
      "Successfully installed audioread-3.0.1 librosa-0.10.1 pooch-1.8.0 soundfile-0.12.1 soxr-0.3.7\n"
     ]
    }
   ],
   "source": [
    "#installing the libraries required\n",
    "!pip install librosa"
   ]
  },
  {
   "cell_type": "code",
   "execution_count": 2,
   "id": "c86c8a14",
   "metadata": {},
   "outputs": [
    {
     "name": "stdout",
     "output_type": "stream",
     "text": [
      "Collecting audiomentations\n",
      "  Obtaining dependency information for audiomentations from https://files.pythonhosted.org/packages/0b/b6/dd82b8ade863bbe4c50fea7f06e696c306373a8dc042dd0aac0dc07bd857/audiomentations-0.34.1-py3-none-any.whl.metadata\n",
      "  Using cached audiomentations-0.34.1-py3-none-any.whl.metadata (10 kB)\n",
      "Requirement already satisfied: numpy>=1.21.0 in c:\\users\\hp\\anaconda3\\lib\\site-packages (from audiomentations) (1.24.3)\n",
      "Requirement already satisfied: librosa!=0.10.0,<0.11.0,>=0.8.0 in c:\\users\\hp\\anaconda3\\lib\\site-packages (from audiomentations) (0.10.1)\n",
      "Requirement already satisfied: scipy<2,>=1.4.0 in c:\\users\\hp\\anaconda3\\lib\\site-packages (from audiomentations) (1.11.1)\n",
      "Requirement already satisfied: soxr<1.0.0,>=0.3.2 in c:\\users\\hp\\anaconda3\\lib\\site-packages (from audiomentations) (0.3.7)\n",
      "Requirement already satisfied: audioread>=2.1.9 in c:\\users\\hp\\anaconda3\\lib\\site-packages (from librosa!=0.10.0,<0.11.0,>=0.8.0->audiomentations) (3.0.1)\n",
      "Requirement already satisfied: scikit-learn>=0.20.0 in c:\\users\\hp\\anaconda3\\lib\\site-packages (from librosa!=0.10.0,<0.11.0,>=0.8.0->audiomentations) (1.3.0)\n",
      "Requirement already satisfied: joblib>=0.14 in c:\\users\\hp\\anaconda3\\lib\\site-packages (from librosa!=0.10.0,<0.11.0,>=0.8.0->audiomentations) (1.2.0)\n",
      "Requirement already satisfied: decorator>=4.3.0 in c:\\users\\hp\\anaconda3\\lib\\site-packages (from librosa!=0.10.0,<0.11.0,>=0.8.0->audiomentations) (5.1.1)\n",
      "Requirement already satisfied: numba>=0.51.0 in c:\\users\\hp\\anaconda3\\lib\\site-packages (from librosa!=0.10.0,<0.11.0,>=0.8.0->audiomentations) (0.57.1)\n",
      "Requirement already satisfied: soundfile>=0.12.1 in c:\\users\\hp\\anaconda3\\lib\\site-packages (from librosa!=0.10.0,<0.11.0,>=0.8.0->audiomentations) (0.12.1)\n",
      "Requirement already satisfied: pooch>=1.0 in c:\\users\\hp\\anaconda3\\lib\\site-packages (from librosa!=0.10.0,<0.11.0,>=0.8.0->audiomentations) (1.8.0)\n",
      "Requirement already satisfied: typing-extensions>=4.1.1 in c:\\users\\hp\\anaconda3\\lib\\site-packages (from librosa!=0.10.0,<0.11.0,>=0.8.0->audiomentations) (4.7.1)\n",
      "Requirement already satisfied: lazy-loader>=0.1 in c:\\users\\hp\\anaconda3\\lib\\site-packages (from librosa!=0.10.0,<0.11.0,>=0.8.0->audiomentations) (0.2)\n",
      "Requirement already satisfied: msgpack>=1.0 in c:\\users\\hp\\anaconda3\\lib\\site-packages (from librosa!=0.10.0,<0.11.0,>=0.8.0->audiomentations) (1.0.3)\n",
      "Requirement already satisfied: llvmlite<0.41,>=0.40.0dev0 in c:\\users\\hp\\anaconda3\\lib\\site-packages (from numba>=0.51.0->librosa!=0.10.0,<0.11.0,>=0.8.0->audiomentations) (0.40.0)\n",
      "Requirement already satisfied: platformdirs>=2.5.0 in c:\\users\\hp\\anaconda3\\lib\\site-packages (from pooch>=1.0->librosa!=0.10.0,<0.11.0,>=0.8.0->audiomentations) (3.10.0)\n",
      "Requirement already satisfied: packaging>=20.0 in c:\\users\\hp\\anaconda3\\lib\\site-packages (from pooch>=1.0->librosa!=0.10.0,<0.11.0,>=0.8.0->audiomentations) (23.1)\n",
      "Requirement already satisfied: requests>=2.19.0 in c:\\users\\hp\\anaconda3\\lib\\site-packages (from pooch>=1.0->librosa!=0.10.0,<0.11.0,>=0.8.0->audiomentations) (2.31.0)\n",
      "Requirement already satisfied: threadpoolctl>=2.0.0 in c:\\users\\hp\\anaconda3\\lib\\site-packages (from scikit-learn>=0.20.0->librosa!=0.10.0,<0.11.0,>=0.8.0->audiomentations) (2.2.0)\n",
      "Requirement already satisfied: cffi>=1.0 in c:\\users\\hp\\anaconda3\\lib\\site-packages (from soundfile>=0.12.1->librosa!=0.10.0,<0.11.0,>=0.8.0->audiomentations) (1.15.1)\n",
      "Requirement already satisfied: pycparser in c:\\users\\hp\\anaconda3\\lib\\site-packages (from cffi>=1.0->soundfile>=0.12.1->librosa!=0.10.0,<0.11.0,>=0.8.0->audiomentations) (2.21)\n",
      "Requirement already satisfied: charset-normalizer<4,>=2 in c:\\users\\hp\\anaconda3\\lib\\site-packages (from requests>=2.19.0->pooch>=1.0->librosa!=0.10.0,<0.11.0,>=0.8.0->audiomentations) (2.0.4)\n",
      "Requirement already satisfied: idna<4,>=2.5 in c:\\users\\hp\\anaconda3\\lib\\site-packages (from requests>=2.19.0->pooch>=1.0->librosa!=0.10.0,<0.11.0,>=0.8.0->audiomentations) (3.4)\n",
      "Requirement already satisfied: urllib3<3,>=1.21.1 in c:\\users\\hp\\anaconda3\\lib\\site-packages (from requests>=2.19.0->pooch>=1.0->librosa!=0.10.0,<0.11.0,>=0.8.0->audiomentations) (1.26.16)\n",
      "Requirement already satisfied: certifi>=2017.4.17 in c:\\users\\hp\\anaconda3\\lib\\site-packages (from requests>=2.19.0->pooch>=1.0->librosa!=0.10.0,<0.11.0,>=0.8.0->audiomentations) (2023.7.22)\n",
      "Downloading audiomentations-0.34.1-py3-none-any.whl (76 kB)\n",
      "   ---------------------------------------- 0.0/77.0 kB ? eta -:--:--\n",
      "   ----- ---------------------------------- 10.2/77.0 kB ? eta -:--:--\n",
      "   --------------- ------------------------ 30.7/77.0 kB 330.3 kB/s eta 0:00:01\n",
      "   ------------------------------------- -- 71.7/77.0 kB 563.7 kB/s eta 0:00:01\n",
      "   ---------------------------------------- 77.0/77.0 kB 533.9 kB/s eta 0:00:00\n",
      "Installing collected packages: audiomentations\n",
      "Successfully installed audiomentations-0.34.1\n"
     ]
    }
   ],
   "source": [
    "!pip install audiomentations"
   ]
  },
  {
   "cell_type": "code",
   "execution_count": 70,
   "id": "ee2f6785",
   "metadata": {},
   "outputs": [
    {
     "name": "stdout",
     "output_type": "stream",
     "text": [
      "Collecting pydub\n",
      "  Downloading pydub-0.25.1-py2.py3-none-any.whl (32 kB)\n",
      "Installing collected packages: pydub\n",
      "Successfully installed pydub-0.25.1\n"
     ]
    }
   ],
   "source": [
    "!pip install pydub"
   ]
  },
  {
   "cell_type": "code",
   "execution_count": 74,
   "id": "9c3b79f8",
   "metadata": {},
   "outputs": [
    {
     "name": "stdout",
     "output_type": "stream",
     "text": [
      "Collecting lameenc\n",
      "  Obtaining dependency information for lameenc from https://files.pythonhosted.org/packages/c8/5c/2ae2f48d32b954a93827469714506a45f9499df235a4e1c5c87849eb6550/lameenc-1.7.0-cp311-cp311-win_amd64.whl.metadata\n",
      "  Downloading lameenc-1.7.0-cp311-cp311-win_amd64.whl.metadata (825 bytes)\n",
      "Downloading lameenc-1.7.0-cp311-cp311-win_amd64.whl (148 kB)\n",
      "   ---------------------------------------- 0.0/148.6 kB ? eta -:--:--\n",
      "   -------- ------------------------------- 30.7/148.6 kB ? eta -:--:--\n",
      "   ---------------- ---------------------- 61.4/148.6 kB 544.7 kB/s eta 0:00:01\n",
      "   ------------------ -------------------- 71.7/148.6 kB 558.5 kB/s eta 0:00:01\n",
      "   ------------------ -------------------- 71.7/148.6 kB 558.5 kB/s eta 0:00:01\n",
      "   -------------------------------------- 148.6/148.6 kB 631.6 kB/s eta 0:00:00\n",
      "Installing collected packages: lameenc\n",
      "Successfully installed lameenc-1.7.0\n"
     ]
    }
   ],
   "source": [
    "!pip install lameenc"
   ]
  },
  {
   "cell_type": "code",
   "execution_count": null,
   "id": "afa39595",
   "metadata": {},
   "outputs": [],
   "source": []
  },
  {
   "cell_type": "code",
   "execution_count": 1,
   "id": "3dbbb3d5",
   "metadata": {},
   "outputs": [],
   "source": [
    "import librosa\n",
    "from audiomentations import Compose, PitchShift, AddGaussianNoise, HighPassFilter, LowPassFilter, Mp3Compression\n",
    "from audiomentations import Padding, ClippingDistortion, TimeStretch, Gain"
   ]
  },
  {
   "cell_type": "code",
   "execution_count": null,
   "id": "e424efb5",
   "metadata": {},
   "outputs": [],
   "source": []
  },
  {
   "cell_type": "code",
   "execution_count": 2,
   "id": "9933def2",
   "metadata": {},
   "outputs": [],
   "source": [
    "import soundfile as sf\n",
    "from random import randint, choices\n",
    "from glob import glob\n",
    "import re"
   ]
  },
  {
   "cell_type": "code",
   "execution_count": 9,
   "id": "dc27fb7d",
   "metadata": {},
   "outputs": [],
   "source": [
    "#the transformations can be changed here for future use\n",
    "augument = Compose([\n",
    "    PitchShift(min_semitones = -3, max_semitones = 3, p=1),\n",
    "    HighPassFilter(min_cutoff_freq= 700, max_cutoff_freq= 1100, p=0.25),\n",
    "    LowPassFilter(min_cutoff_freq= 2000, max_cutoff_freq= 2500, p=0.25),\n",
    "    Padding(mode= \"silence\", max_fraction= 0.3, pad_section= choices([\"start\", \"end\"], weights= [1, 1])[0] , p=0.25),\n",
    "    ClippingDistortion(max_percentile_threshold= randint(10, 20), p=0.4),\n",
    "    TimeStretch(min_rate=0.97, max_rate= 1.45, leave_length_unchanged= False, p=0.5),\n",
    "    #Mp3Compression(min_bitrate= 16, max_bitrate= 32, backend= \"lameenc\", p=1), \n",
    "        #the compression could be a better idea if higher quality audio is availible\n",
    "    Gain(min_gain_db=7, max_gain_db=10, p=1),\n",
    "    AddGaussianNoise(min_amplitude= 0.001, max_amplitude= 0.006, p=0.35)\n",
    "])\n"
   ]
  },
  {
   "cell_type": "code",
   "execution_count": 11,
   "id": "6fe9e4bb",
   "metadata": {},
   "outputs": [],
   "source": [
    "#listing out the classes of audio\n",
    "audio_types = [\"belly_pain\", \"burping\", \"discomfort\", \"hungry\", \"tired\"]"
   ]
  },
  {
   "cell_type": "code",
   "execution_count": 12,
   "id": "83f5d943",
   "metadata": {},
   "outputs": [],
   "source": [
    "\n",
    "for audio_type in audio_types:\n",
    "    #find the path to all the audio files in a class\n",
    "    audio_files = glob(f\"dataset1/{audio_type}/*.wav\")\n",
    "    for file in audio_files:\n",
    "        \n",
    "        #augumenting the files\n",
    "        signal, sr = librosa.load(file)\n",
    "        augumented = augument(signal, sr)\n",
    "        \n",
    "        #adding the augumented files back to the same class folders with the name [aug-(base file name).wav]\n",
    "        file_str = re.search(r\"\\\\(.+).wav\", file)\n",
    "        sf.write(f\"dataset1/{audio_type}/aug-{file_str.group(1)}.wav\", augumented, sr)"
   ]
  },
  {
   "cell_type": "code",
   "execution_count": null,
   "id": "d534e727",
   "metadata": {},
   "outputs": [],
   "source": []
  },
  {
   "cell_type": "code",
   "execution_count": null,
   "id": "87b7232b",
   "metadata": {},
   "outputs": [],
   "source": []
  }
 ],
 "metadata": {
  "kernelspec": {
   "display_name": "Python 3 (ipykernel)",
   "language": "python",
   "name": "python3"
  },
  "language_info": {
   "codemirror_mode": {
    "name": "ipython",
    "version": 3
   },
   "file_extension": ".py",
   "mimetype": "text/x-python",
   "name": "python",
   "nbconvert_exporter": "python",
   "pygments_lexer": "ipython3",
   "version": "3.13.7"
  }
 },
 "nbformat": 4,
 "nbformat_minor": 5
}
